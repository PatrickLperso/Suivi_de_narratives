{
 "cells": [
  {
   "cell_type": "code",
   "execution_count": 1,
   "id": "24c517fa-c1e9-43b9-8b40-3489a0a6e33c",
   "metadata": {},
   "outputs": [],
   "source": [
    "import json\n",
    "import pandas as pd\n",
    "import urllib.parse\n",
    "import requests\n",
    "import re"
   ]
  },
  {
   "cell_type": "code",
   "execution_count": 40,
   "id": "a4675109",
   "metadata": {},
   "outputs": [],
   "source": [
    "headers={\"User-agent\" : \"Mozilla/5.0 (X11; Ubuntu; Linux x86_64; rv:109.0) Gecko/20100101 Firefox/110.0\"}\n",
    "\n",
    "test=requests.get(\"https://www.bbc.co.uk/robots.txt\", headers=headers)\n",
    "\n",
    "res={\"User-Agent\":{\"Disallow\":[], \"Allow\":[]}, \"Sitemap\": []}\n",
    "for k in test.text.splitlines():\n",
    "    if len(k)!=0 and k[0]!=\"#\": # on évite les lignes commentées ou vides\n",
    "        if \"user-agent:\" in k.lower():\n",
    "            key=k.split(\":\", 1)[1].strip(' ')  # la clé va passer de user-agent en user-agent \n",
    "        \n",
    "        elif \"disallow\" in k.lower() and key==\"*\": #tant que la clé vaut * on ajoute\n",
    "            res[\"User-Agent\"][\"Disallow\"].append(k.split(\":\",1)[1].strip(' '))\n",
    "        elif \"allow\" in k.lower() and key==\"*\": #tant que la clé vaut * on ajoute\n",
    "            res[\"User-Agent\"][\"Allow\"].append(k.split(\":\",1)[1].strip(' '))\n",
    "        elif \"sitemap\" in k.lower() and \"http\" in k: #on prend tous les sitemaps\n",
    "            res[\"Sitemap\"].append(k.split(\":\", 1)[1].strip(' '))\n"
   ]
  },
  {
   "cell_type": "code",
   "execution_count": 41,
   "id": "7163b7a8",
   "metadata": {},
   "outputs": [
    {
     "data": {
      "text/plain": [
       "['https://www.bbc.co.uk/sitemap.xml',\n",
       " 'https://www.bbc.co.uk/sitemaps/https-index-uk-archive.xml',\n",
       " 'https://www.bbc.co.uk/sitemaps/https-index-uk-news.xml',\n",
       " 'https://www.bbc.co.uk/food/sitemap.xml',\n",
       " 'https://www.bbc.co.uk/bitesize/sitemap/sitemapindex.xml',\n",
       " 'https://www.bbc.co.uk/teach/sitemap/sitemapindex.xml',\n",
       " 'https://www.bbc.co.uk/sitemaps/https-index-uk-archive_video.xml',\n",
       " 'https://www.bbc.co.uk/sitemaps/https-index-uk-video.xml',\n",
       " 'https://www.bbc.co.uk/sitemaps/sitemap-uk-ws-topics.xml',\n",
       " 'https://www.bbc.co.uk/sport/sitemap.xml',\n",
       " 'https://www.bbc.co.uk/sitemaps/sitemap-uk-topics.xml',\n",
       " 'https://www.bbc.co.uk/ideas/sitemap.xml']"
      ]
     },
     "execution_count": 41,
     "metadata": {},
     "output_type": "execute_result"
    }
   ],
   "source": [
    "res[\"Sitemap\"]\n"
   ]
  },
  {
   "cell_type": "code",
   "execution_count": 42,
   "id": "0c38a1d9",
   "metadata": {},
   "outputs": [
    {
     "data": {
      "text/plain": [
       "{'Disallow': ['/bitesize/search$',\n",
       "  '/bitesize/search/',\n",
       "  '/bitesize/search?',\n",
       "  '/cbbc/search$',\n",
       "  '/cbbc/search/',\n",
       "  '/cbbc/search?',\n",
       "  '/cbeebies/search$',\n",
       "  '/cbeebies/search/',\n",
       "  '/cbeebies/search?',\n",
       "  '/chwilio/',\n",
       "  '/chwilio$',\n",
       "  '/chwilio?',\n",
       "  '/iplayer/bigscreen/',\n",
       "  '/iplayer/cbbc/episodes/',\n",
       "  '/iplayer/cbbc/search',\n",
       "  '/iplayer/cbeebies/episodes/',\n",
       "  '/iplayer/cbeebies/search',\n",
       "  '/iplayer/search',\n",
       "  '/indepthtoolkit/smallprox$',\n",
       "  '/indepthtoolkit/smallprox/',\n",
       "  '/modules/musicnav/language/',\n",
       "  '/news/0',\n",
       "  '/radio/aod/',\n",
       "  '/radio/aod$',\n",
       "  '/radio/imda',\n",
       "  '/radio/player/',\n",
       "  '/radio/player$',\n",
       "  '/search/',\n",
       "  '/search$',\n",
       "  '/search?',\n",
       "  '/sport/videos/*',\n",
       "  '/sounds/player/',\n",
       "  '/sounds/player$',\n",
       "  '/ugc$',\n",
       "  '/ugc/',\n",
       "  '/ugcsupport$',\n",
       "  '/ugcsupport/',\n",
       "  '/userinfo/',\n",
       "  '/userinfo',\n",
       "  '/food/favourites',\n",
       "  '/food/menus/*/shopping-list',\n",
       "  '/food/recipes/*/shopping-list',\n",
       "  '/food/search*?*',\n",
       "  '/sounds/search$',\n",
       "  '/sounds/search/',\n",
       "  '/sounds/search?',\n",
       "  '/ws/includes',\n",
       "  '/rd/search$',\n",
       "  '/rd/search/',\n",
       "  '/rd/search?',\n",
       "  '/things/search$',\n",
       "  '/things/search/',\n",
       "  '/things/search?'],\n",
       " 'Allow': []}"
      ]
     },
     "execution_count": 42,
     "metadata": {},
     "output_type": "execute_result"
    }
   ],
   "source": [
    "res[\"User-Agent\"]"
   ]
  },
  {
   "cell_type": "code",
   "execution_count": 20,
   "id": "7ae40cef-2556-4c64-8fbc-0e00b6baa945",
   "metadata": {},
   "outputs": [],
   "source": [
    "f = open('url_500_11.json')\n",
    " \n",
    "# returns JSON object as \n",
    "# a dictionary\n",
    "data = json.load(f)\n",
    "df_json=pd.DataFrame(data).T\n",
    "f.close()"
   ]
  },
  {
   "cell_type": "code",
   "execution_count": 21,
   "id": "6705276f-1474-447e-9ad7-52867c7b95e6",
   "metadata": {},
   "outputs": [
    {
     "data": {
      "text/plain": [
       "robots          3417\n",
       "all_links       3417\n",
       "xml_filter      3417\n",
       "news_filter     1355\n",
       "index_filter     994\n",
       "dtype: int64"
      ]
     },
     "execution_count": 21,
     "metadata": {},
     "output_type": "execute_result"
    }
   ],
   "source": [
    "(~df_json.isna()).sum()"
   ]
  },
  {
   "cell_type": "code",
   "execution_count": 22,
   "id": "e34184a6-43ac-4029-b0c9-2f39e58979b9",
   "metadata": {},
   "outputs": [
    {
     "data": {
      "text/plain": [
       "5994"
      ]
     },
     "execution_count": 22,
     "metadata": {},
     "output_type": "execute_result"
    }
   ],
   "source": [
    "len(data)"
   ]
  },
  {
   "cell_type": "code",
   "execution_count": 23,
   "id": "e77205a4-826c-4c10-be42-8de3965cfc21",
   "metadata": {},
   "outputs": [
    {
     "data": {
      "text/html": [
       "<div>\n",
       "<style scoped>\n",
       "    .dataframe tbody tr th:only-of-type {\n",
       "        vertical-align: middle;\n",
       "    }\n",
       "\n",
       "    .dataframe tbody tr th {\n",
       "        vertical-align: top;\n",
       "    }\n",
       "\n",
       "    .dataframe thead th {\n",
       "        text-align: right;\n",
       "    }\n",
       "</style>\n",
       "<table border=\"1\" class=\"dataframe\">\n",
       "  <thead>\n",
       "    <tr style=\"text-align: right;\">\n",
       "      <th></th>\n",
       "      <th>robots</th>\n",
       "      <th>all_links</th>\n",
       "      <th>xml_filter</th>\n",
       "      <th>news_filter</th>\n",
       "      <th>index_filter</th>\n",
       "    </tr>\n",
       "  </thead>\n",
       "  <tbody>\n",
       "    <tr>\n",
       "      <th>https://news.yahoo.com</th>\n",
       "      <td>User-agent: *\\nDisallow: /caas/\\nDisallow: /_t...</td>\n",
       "      <td>[https://news.yahoo.com/sitemaps/news-sitemap_...</td>\n",
       "      <td>[https://news.yahoo.com/sitemaps/news-sitemap_...</td>\n",
       "      <td>[https://news.yahoo.com/sitemaps/news-sitemap_...</td>\n",
       "      <td>[https://news.yahoo.com/sitemaps/news-sitemap_...</td>\n",
       "    </tr>\n",
       "    <tr>\n",
       "      <th>https://www.dailymail.co.uk</th>\n",
       "      <td># Robots.txt for https://www.dailymail.co.uk/ ...</td>\n",
       "      <td>[https://www.dailymail.co.uk/, https://www.dai...</td>\n",
       "      <td>[https://www.dailymail.co.uk/google-news-sitem...</td>\n",
       "      <td>[https://www.dailymail.co.uk/google-news-sitem...</td>\n",
       "      <td>None</td>\n",
       "    </tr>\n",
       "    <tr>\n",
       "      <th>https://www.globalsecurity.org</th>\n",
       "      <td>None</td>\n",
       "      <td>None</td>\n",
       "      <td>None</td>\n",
       "      <td>None</td>\n",
       "      <td>None</td>\n",
       "    </tr>\n",
       "    <tr>\n",
       "      <th>https://timesofindia.indiatimes.com</th>\n",
       "      <td>Sitemap: https://timesofindia.indiatimes.com/s...</td>\n",
       "      <td>[https://timesofindia.indiatimes.com/sitemap/t...</td>\n",
       "      <td>[https://timesofindia.indiatimes.com/sitemap/t...</td>\n",
       "      <td>None</td>\n",
       "      <td>[https://timesofindia.indiatimes.com/staticsit...</td>\n",
       "    </tr>\n",
       "    <tr>\n",
       "      <th>https://menafn.com</th>\n",
       "      <td>#\\r\\n# robots.txt\\r\\n#\\r\\n# This file is to pr...</td>\n",
       "      <td>[http://example.com/robots.txt, http://example...</td>\n",
       "      <td>[http://example.com/site/robots.txt, https://m...</td>\n",
       "      <td>[https://menafn.com/updates/sitemap_news_en.xm...</td>\n",
       "      <td>[https://menafn.com/updates/sitemap_index.xml,...</td>\n",
       "    </tr>\n",
       "  </tbody>\n",
       "</table>\n",
       "</div>"
      ],
      "text/plain": [
       "                                                                                robots  \\\n",
       "https://news.yahoo.com               User-agent: *\\nDisallow: /caas/\\nDisallow: /_t...   \n",
       "https://www.dailymail.co.uk          # Robots.txt for https://www.dailymail.co.uk/ ...   \n",
       "https://www.globalsecurity.org                                                    None   \n",
       "https://timesofindia.indiatimes.com  Sitemap: https://timesofindia.indiatimes.com/s...   \n",
       "https://menafn.com                   #\\r\\n# robots.txt\\r\\n#\\r\\n# This file is to pr...   \n",
       "\n",
       "                                                                             all_links  \\\n",
       "https://news.yahoo.com               [https://news.yahoo.com/sitemaps/news-sitemap_...   \n",
       "https://www.dailymail.co.uk          [https://www.dailymail.co.uk/, https://www.dai...   \n",
       "https://www.globalsecurity.org                                                    None   \n",
       "https://timesofindia.indiatimes.com  [https://timesofindia.indiatimes.com/sitemap/t...   \n",
       "https://menafn.com                   [http://example.com/robots.txt, http://example...   \n",
       "\n",
       "                                                                            xml_filter  \\\n",
       "https://news.yahoo.com               [https://news.yahoo.com/sitemaps/news-sitemap_...   \n",
       "https://www.dailymail.co.uk          [https://www.dailymail.co.uk/google-news-sitem...   \n",
       "https://www.globalsecurity.org                                                    None   \n",
       "https://timesofindia.indiatimes.com  [https://timesofindia.indiatimes.com/sitemap/t...   \n",
       "https://menafn.com                   [http://example.com/site/robots.txt, https://m...   \n",
       "\n",
       "                                                                           news_filter  \\\n",
       "https://news.yahoo.com               [https://news.yahoo.com/sitemaps/news-sitemap_...   \n",
       "https://www.dailymail.co.uk          [https://www.dailymail.co.uk/google-news-sitem...   \n",
       "https://www.globalsecurity.org                                                    None   \n",
       "https://timesofindia.indiatimes.com                                               None   \n",
       "https://menafn.com                   [https://menafn.com/updates/sitemap_news_en.xm...   \n",
       "\n",
       "                                                                          index_filter  \n",
       "https://news.yahoo.com               [https://news.yahoo.com/sitemaps/news-sitemap_...  \n",
       "https://www.dailymail.co.uk                                                       None  \n",
       "https://www.globalsecurity.org                                                    None  \n",
       "https://timesofindia.indiatimes.com  [https://timesofindia.indiatimes.com/staticsit...  \n",
       "https://menafn.com                   [https://menafn.com/updates/sitemap_index.xml,...  "
      ]
     },
     "execution_count": 23,
     "metadata": {},
     "output_type": "execute_result"
    }
   ],
   "source": [
    "df_json.head(5)"
   ]
  },
  {
   "cell_type": "code",
   "execution_count": 24,
   "id": "e6e872dd-b11e-45ee-adc3-59ac367c77cf",
   "metadata": {},
   "outputs": [
    {
     "data": {
      "text/plain": [
       "https://news.yahoo.com            [https://news.yahoo.com/sitemaps/news-sitemap_...\n",
       "https://www.dailymail.co.uk       [https://www.dailymail.co.uk/google-news-sitem...\n",
       "https://menafn.com                [https://menafn.com/updates/sitemap_news_en.xm...\n",
       "https://www.hindustantimes.com    [https://www.hindustantimes.com/sitemap/news.xml]\n",
       "https://www.theepochtimes.com     [https://www.theepochtimes.com/sitemap/sitemap...\n",
       "                                                        ...                        \n",
       "https://www.highsnobiety.com            [https://highsnobiety.com/sitemap-news.xml]\n",
       "https://www.droid-life.com            [https://www.droid-life.com/news-sitemap.xml]\n",
       "https://raillynews.com                   [https://raillynews.com/sitemap_index.xml]\n",
       "https://www.themercury.com.au      [https://www.themercury.com.au/news-sitemap.xml]\n",
       "https://pcr-online.biz                    [https://pcr-online.biz/sitemap-news.xml]\n",
       "Name: news_filter, Length: 1355, dtype: object"
      ]
     },
     "execution_count": 24,
     "metadata": {},
     "output_type": "execute_result"
    }
   ],
   "source": [
    "url_news=df_json.loc[:, \"news_filter\"].dropna()\n",
    "url_news"
   ]
  },
  {
   "cell_type": "code",
   "execution_count": 25,
   "id": "34b904a6",
   "metadata": {},
   "outputs": [
    {
     "data": {
      "text/plain": [
       "/tncms/sitemap/editorial.xml                            1446\n",
       "/news-sitemap.xml                                        253\n",
       "/sitemap.xml                                             239\n",
       "/sitemap-news.xml                                        176\n",
       "/news-sitemap-content.xml                                116\n",
       "/sitemap_index.xml                                       107\n",
       "/arc/outboundfeeds/news-sitemap-index/category/news/      96\n",
       "/sitemap_news.xml                                         53\n",
       "/sitemaps/googlenews                                      31\n",
       "/arc/outboundfeeds/sitemap-news/                          25\n",
       "/google-news-sitemap.xml                                  24\n",
       "/arc/outboundfeeds/news-sitemap-index                     23\n",
       "/arc/outboundfeeds/sitemap-index/                         22\n",
       "/wp-sitemap.xml                                           21\n",
       "/sitemap-google-news.xml                                  20\n",
       "Name: count, dtype: int64"
      ]
     },
     "execution_count": 25,
     "metadata": {},
     "output_type": "execute_result"
    }
   ],
   "source": [
    "list_list_path=url_news.apply(lambda liste_url: [urllib.parse.urlparse(k).path for k in  liste_url ])\n",
    "\n",
    "paths=pd.Series([ url for list_url in list_list_path for url in list_url ]).value_counts()\n",
    "paths.iloc[:15]"
   ]
  },
  {
   "cell_type": "code",
   "execution_count": 7,
   "id": "c7ec50d0",
   "metadata": {},
   "outputs": [
    {
     "data": {
      "text/plain": [
       "'/sitemap-news.xml'"
      ]
     },
     "execution_count": 7,
     "metadata": {},
     "output_type": "execute_result"
    }
   ],
   "source": [
    "urllib.parse.urlparse(\"https://pcr-online.biz/sitemap-news.xml\").path"
   ]
  },
  {
   "cell_type": "code",
   "execution_count": 8,
   "id": "6a35d3fa",
   "metadata": {},
   "outputs": [
    {
     "data": {
      "text/plain": [
       "<AxesSubplot:ylabel='Frequency'>"
      ]
     },
     "execution_count": 8,
     "metadata": {},
     "output_type": "execute_result"
    },
    {
     "data": {
      "image/png": "[encoded data removed]",
      "text/plain": [
       "<Figure size 640x480 with 1 Axes>"
      ]
     },
     "metadata": {},
     "output_type": "display_data"
    }
   ],
   "source": [
    "url_news.apply(lambda liste_url: len(liste_url)).sort_values().plot.hist(stacked=True, bins=100)"
   ]
  },
  {
   "cell_type": "code",
   "execution_count": 12,
   "id": "4cc2565c-b37f-49cd-8e39-6c4ac8e11313",
   "metadata": {},
   "outputs": [
    {
     "data": {
      "text/plain": [
       "/tncms/sitemap/editorial.xml                            9428\n",
       "/sitemap.xml                                            2509\n",
       "/sitemap_index.xml                                       989\n",
       "/news-sitemap.xml                                        253\n",
       "/site/robots.txt                                         224\n",
       "/index.php                                               218\n",
       "/sitemap-news.xml                                        176\n",
       "/wp-sitemap.xml                                          170\n",
       "/arc/outboundfeeds/sitemap-index/                        138\n",
       "/news-sitemap-content.xml                                116\n",
       "/arc/outboundfeeds/sitemap-section-index/                 99\n",
       "/arc/outboundfeeds/video-sitemap/                         99\n",
       "/arc/outboundfeeds/news-sitemap-index/category/news/      96\n",
       "/sitemap-latest.xml                                       89\n",
       "/sitemap.rss                                              58\n",
       "Name: count, dtype: int64"
      ]
     },
     "execution_count": 12,
     "metadata": {},
     "output_type": "execute_result"
    }
   ],
   "source": [
    "list_list_path=df_json.loc[:, \"xml_filter\"].dropna().apply(lambda liste_url: [urllib.parse.urlparse(k).path for k in  liste_url ])\n",
    "\n",
    "paths=pd.Series([ url for list_url in list_list_path for url in list_url ]).value_counts()\n",
    "paths.iloc[:15]"
   ]
  },
  {
   "cell_type": "code",
   "execution_count": 16,
   "id": "00551cc9-8274-476a-b1f8-aadd9a885949",
   "metadata": {},
   "outputs": [
    {
     "data": {
      "text/plain": [
       "3498"
      ]
     },
     "execution_count": 16,
     "metadata": {},
     "output_type": "execute_result"
    }
   ],
   "source": [
    "2509+989"
   ]
  },
  {
   "cell_type": "code",
   "execution_count": 22,
   "id": "1c28da62-878e-4d98-90dc-0280164d40dc",
   "metadata": {},
   "outputs": [
    {
     "data": {
      "text/html": [
       "<div>\n",
       "<style scoped>\n",
       "    .dataframe tbody tr th:only-of-type {\n",
       "        vertical-align: middle;\n",
       "    }\n",
       "\n",
       "    .dataframe tbody tr th {\n",
       "        vertical-align: top;\n",
       "    }\n",
       "\n",
       "    .dataframe thead th {\n",
       "        text-align: right;\n",
       "    }\n",
       "</style>\n",
       "<table border=\"1\" class=\"dataframe\">\n",
       "  <thead>\n",
       "    <tr style=\"text-align: right;\">\n",
       "      <th></th>\n",
       "      <th>robots</th>\n",
       "      <th>all_links</th>\n",
       "      <th>xml_filter</th>\n",
       "      <th>news_filter</th>\n",
       "      <th>index_filter</th>\n",
       "    </tr>\n",
       "  </thead>\n",
       "  <tbody>\n",
       "    <tr>\n",
       "      <th>https://www.globalsecurity.org</th>\n",
       "      <td>None</td>\n",
       "      <td>None</td>\n",
       "      <td>None</td>\n",
       "      <td>None</td>\n",
       "      <td>None</td>\n",
       "    </tr>\n",
       "    <tr>\n",
       "      <th>https://www.marketscreener.com</th>\n",
       "      <td>None</td>\n",
       "      <td>None</td>\n",
       "      <td>None</td>\n",
       "      <td>None</td>\n",
       "      <td>None</td>\n",
       "    </tr>\n",
       "    <tr>\n",
       "      <th>https://www.miragenews.com</th>\n",
       "      <td>None</td>\n",
       "      <td>None</td>\n",
       "      <td>None</td>\n",
       "      <td>None</td>\n",
       "      <td>None</td>\n",
       "    </tr>\n",
       "    <tr>\n",
       "      <th>https://www.thenews.com.pk</th>\n",
       "      <td>None</td>\n",
       "      <td>None</td>\n",
       "      <td>None</td>\n",
       "      <td>None</td>\n",
       "      <td>None</td>\n",
       "    </tr>\n",
       "    <tr>\n",
       "      <th>https://www.bignewsnetwork.com</th>\n",
       "      <td>None</td>\n",
       "      <td>None</td>\n",
       "      <td>None</td>\n",
       "      <td>None</td>\n",
       "      <td>None</td>\n",
       "    </tr>\n",
       "    <tr>\n",
       "      <th>...</th>\n",
       "      <td>...</td>\n",
       "      <td>...</td>\n",
       "      <td>...</td>\n",
       "      <td>...</td>\n",
       "      <td>...</td>\n",
       "    </tr>\n",
       "    <tr>\n",
       "      <th>https://www.idea.int</th>\n",
       "      <td>None</td>\n",
       "      <td>None</td>\n",
       "      <td>None</td>\n",
       "      <td>None</td>\n",
       "      <td>None</td>\n",
       "    </tr>\n",
       "    <tr>\n",
       "      <th>https://www.civilsociety.co.uk</th>\n",
       "      <td>None</td>\n",
       "      <td>None</td>\n",
       "      <td>None</td>\n",
       "      <td>None</td>\n",
       "      <td>None</td>\n",
       "    </tr>\n",
       "    <tr>\n",
       "      <th>https://mof.gov.ae</th>\n",
       "      <td>None</td>\n",
       "      <td>None</td>\n",
       "      <td>None</td>\n",
       "      <td>None</td>\n",
       "      <td>None</td>\n",
       "    </tr>\n",
       "    <tr>\n",
       "      <th>https://www.tahoedailytribune.com</th>\n",
       "      <td>None</td>\n",
       "      <td>None</td>\n",
       "      <td>None</td>\n",
       "      <td>None</td>\n",
       "      <td>None</td>\n",
       "    </tr>\n",
       "    <tr>\n",
       "      <th>https://www.michigancapitolconfidential.com</th>\n",
       "      <td>None</td>\n",
       "      <td>None</td>\n",
       "      <td>None</td>\n",
       "      <td>None</td>\n",
       "      <td>None</td>\n",
       "    </tr>\n",
       "  </tbody>\n",
       "</table>\n",
       "<p>2577 rows × 5 columns</p>\n",
       "</div>"
      ],
      "text/plain": [
       "                                            robots all_links xml_filter  \\\n",
       "https://www.globalsecurity.org                None      None       None   \n",
       "https://www.marketscreener.com                None      None       None   \n",
       "https://www.miragenews.com                    None      None       None   \n",
       "https://www.thenews.com.pk                    None      None       None   \n",
       "https://www.bignewsnetwork.com                None      None       None   \n",
       "...                                            ...       ...        ...   \n",
       "https://www.idea.int                          None      None       None   \n",
       "https://www.civilsociety.co.uk                None      None       None   \n",
       "https://mof.gov.ae                            None      None       None   \n",
       "https://www.tahoedailytribune.com             None      None       None   \n",
       "https://www.michigancapitolconfidential.com   None      None       None   \n",
       "\n",
       "                                            news_filter index_filter  \n",
       "https://www.globalsecurity.org                     None         None  \n",
       "https://www.marketscreener.com                     None         None  \n",
       "https://www.miragenews.com                         None         None  \n",
       "https://www.thenews.com.pk                         None         None  \n",
       "https://www.bignewsnetwork.com                     None         None  \n",
       "...                                                 ...          ...  \n",
       "https://www.idea.int                               None         None  \n",
       "https://www.civilsociety.co.uk                     None         None  \n",
       "https://mof.gov.ae                                 None         None  \n",
       "https://www.tahoedailytribune.com                  None         None  \n",
       "https://www.michigancapitolconfidential.com        None         None  \n",
       "\n",
       "[2577 rows x 5 columns]"
      ]
     },
     "execution_count": 22,
     "metadata": {},
     "output_type": "execute_result"
    }
   ],
   "source": [
    "df_json.loc[df_json.isna().all(axis=1), :]"
   ]
  },
  {
   "cell_type": "code",
   "execution_count": 2,
   "id": "a0bb2d74-a6c6-454e-9596-012e90afad30",
   "metadata": {},
   "outputs": [],
   "source": [
    "import requests\n",
    "import re\n",
    "import sys\n",
    "import numpy as np\n",
    "url = \"https://www.foxnews.com/sitemap.xml?type=articles&page=100\"\n",
    "requesting = requests.get(url)"
   ]
  },
  {
   "cell_type": "code",
   "execution_count": 3,
   "id": "82a500c7-31da-4452-afdb-926aa557cf95",
   "metadata": {},
   "outputs": [],
   "source": [
    "all_links=list(filter(lambda x: \"climat\" in x.lower(), list(map(lambda x:\"\".join(x),\n",
    "                        re.findall(r\"(http|ftp|https)(:\\/\\/[\\w_-]+(?:(?:\\.[\\w_-]+)+))([\\w.,@?^=%&:\\/~+#-]*[\\w@?^=%&\\/~+#-])\", requesting.text)))))"
   ]
  },
  {
   "cell_type": "code",
   "execution_count": 4,
   "id": "2caaa3c3-9183-425f-ab7b-2720cb529759",
   "metadata": {},
   "outputs": [
    {
     "data": {
      "text/plain": [
       "['https://www.foxnews.com/us/climate-change-poses-significant-risk-to-us-military-report-says',\n",
       " 'https://www.foxnews.com/world/the-latest-un-officials-say-20-nations-to-join-climate-pact',\n",
       " 'https://www.foxnews.com/world/paris-climate-change-agreement-passes-key-threshold',\n",
       " 'https://www.foxnews.com/world/the-latest-climate-deal-tops-required-55-ratifications',\n",
       " 'https://www.foxnews.com/world/eu-chief-says-blocs-credibility-at-stake-over-climate-pact',\n",
       " 'https://www.foxnews.com/world/un-ready-to-implement-climate-deal-in-morocco',\n",
       " 'https://www.foxnews.com/world/india-to-ratify-paris-agreement-on-climate-change',\n",
       " 'https://www.foxnews.com/world/nobel-prize-for-colombia-peace-deal-or-un-climate-pact',\n",
       " 'https://www.foxnews.com/world/eu-nations-approve-ratification-of-climate-change-pact',\n",
       " 'https://www.foxnews.com/world/paris-climate-pact-set-to-enter-force-after-eu-greenlight',\n",
       " 'https://www.foxnews.com/world/india-set-to-ratify-paris-climate-change-agreement-at-un',\n",
       " 'https://www.foxnews.com/politics/obama-hails-climate-change-deal-as-potential-turning-point',\n",
       " 'https://www.foxnews.com/world/paris-climate-agreement-to-take-effect-in-30-days']"
      ]
     },
     "execution_count": 4,
     "metadata": {},
     "output_type": "execute_result"
    }
   ],
   "source": [
    "all_links"
   ]
  },
  {
   "cell_type": "code",
   "execution_count": 28,
   "id": "294eb1f6-015f-431f-9ab7-d51df7a84114",
   "metadata": {},
   "outputs": [],
   "source": [
    "html_in_Mo=np.mean(np.array(list(map(lambda x:sys.getsizeof(x), all_links))))/(10**6)"
   ]
  },
  {
   "cell_type": "code",
   "execution_count": 29,
   "id": "48f0a83d-ed1a-4be2-b5e6-53865d4d18f3",
   "metadata": {},
   "outputs": [
    {
     "data": {
      "text/plain": [
       "11750.771626837317"
      ]
     },
     "execution_count": 29,
     "metadata": {},
     "output_type": "execute_result"
    }
   ],
   "source": [
    "html_in_Mo*(6000*4*366*10)"
   ]
  },
  {
   "cell_type": "code",
   "execution_count": 36,
   "id": "207c9f9a-7761-4853-ab09-eaafe437d2c2",
   "metadata": {},
   "outputs": [
    {
     "data": {
      "text/plain": [
       "https://news.yahoo.com                                                                []\n",
       "https://www.dailymail.co.uk            [https://www.dailymail.co.uk/google-news-sitem...\n",
       "https://timesofindia.indiatimes.com                                                   []\n",
       "https://menafn.com                     [https://menafn.com/updates/sitemap_index.xml,...\n",
       "https://www.hindustantimes.com                                                        []\n",
       "                                                             ...                        \n",
       "https://www.troyrecord.com                      [https://www.troyrecord.com/sitemap.xml]\n",
       "https://raillynews.com                        [https://raillynews.com/sitemap_index.xml]\n",
       "https://www.themercury.com.au          [https://www.themercury.com.au/sitemap.xml, ht...\n",
       "https://www.wallowa.com                            [https://www.wallowa.com/sitemap.xml]\n",
       "https://pcr-online.biz                              [https://pcr-online.biz/sitemap.xml]\n",
       "Name: xml_filter, Length: 3417, dtype: object"
      ]
     },
     "execution_count": 36,
     "metadata": {},
     "output_type": "execute_result"
    }
   ],
   "source": [
    "df_json.loc[:, \"xml_filter\"].dropna().apply(lambda liste_url:[k for k in liste_url if \"sitemap.xml\" in k or \"sitemap_index.xml\" in k])"
   ]
  }
 ],
 "metadata": {
  "kernelspec": {
   "display_name": "Python 3 (ipykernel)",
   "language": "python",
   "name": "python3"
  },
  "language_info": {
   "codemirror_mode": {
    "name": "ipython",
    "version": 3
   },
   "file_extension": ".py",
   "mimetype": "text/x-python",
   "name": "python",
   "nbconvert_exporter": "python",
   "pygments_lexer": "ipython3",
   "version": "3.10.12"
  }
 },
 "nbformat": 4,
 "nbformat_minor": 5
}
