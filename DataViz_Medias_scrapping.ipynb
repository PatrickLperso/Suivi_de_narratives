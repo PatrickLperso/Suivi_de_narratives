{
 "cells": [
  {
   "cell_type": "code",
   "execution_count": 1,
   "id": "5c3f5df4-d770-4f38-b316-e3bcdef8c441",
   "metadata": {},
   "outputs": [],
   "source": [
    "import requests\n",
    "from bs4 import BeautifulSoup\n",
    "import pandas as pd"
   ]
  },
  {
   "cell_type": "code",
   "execution_count": 3,
   "id": "3b1ffa1d-3fd6-4cdd-8812-7a2a54421513",
   "metadata": {},
   "outputs": [
    {
     "data": {
      "text/plain": [
       "id                  int64\n",
       "media_coverage     object\n",
       "url                object\n",
       "media_name         object\n",
       "media_type         object\n",
       "media_subject      object\n",
       "media_language     object\n",
       "media_diffusion    object\n",
       "media_location     object\n",
       "coverage           object\n",
       "true_country       object\n",
       "dtype: object"
      ]
     },
     "execution_count": 3,
     "metadata": {},
     "output_type": "execute_result"
    }
   ],
   "source": [
    "data=pd.read_csv(\"medias_per_countries.csv\")\n",
    "data.dtypes"
   ]
  },
  {
   "cell_type": "markdown",
   "id": "cc880b97-618a-4a89-8ff7-277af0b369a9",
   "metadata": {},
   "source": [
    "## Nombres d'entrées non nulles"
   ]
  },
  {
   "cell_type": "code",
   "execution_count": 4,
   "id": "39353b57-c158-48c5-8d53-2552d2561937",
   "metadata": {},
   "outputs": [
    {
     "data": {
      "text/plain": [
       "id                 21898\n",
       "media_coverage     21829\n",
       "url                21898\n",
       "media_name         21898\n",
       "media_type         21699\n",
       "media_subject      21699\n",
       "media_language     21699\n",
       "media_diffusion     3322\n",
       "media_location     17428\n",
       "coverage           17428\n",
       "true_country       21898\n",
       "dtype: int64"
      ]
     },
     "execution_count": 4,
     "metadata": {},
     "output_type": "execute_result"
    }
   ],
   "source": [
    "(~data.isna()).sum()"
   ]
  },
  {
   "cell_type": "markdown",
   "id": "eea8ee01-0912-4f2e-bcb0-8a1fd269a2df",
   "metadata": {},
   "source": [
    "## Liste de Médias Francais s'exprimant en anglais"
   ]
  },
  {
   "cell_type": "code",
   "execution_count": 4,
   "id": "a60806f7-fa25-4a57-be49-d853867cc01d",
   "metadata": {},
   "outputs": [
    {
     "data": {
      "text/html": [
       "<div>\n",
       "<style scoped>\n",
       "    .dataframe tbody tr th:only-of-type {\n",
       "        vertical-align: middle;\n",
       "    }\n",
       "\n",
       "    .dataframe tbody tr th {\n",
       "        vertical-align: top;\n",
       "    }\n",
       "\n",
       "    .dataframe thead th {\n",
       "        text-align: right;\n",
       "    }\n",
       "</style>\n",
       "<table border=\"1\" class=\"dataframe\">\n",
       "  <thead>\n",
       "    <tr style=\"text-align: right;\">\n",
       "      <th></th>\n",
       "      <th>Unnamed: 0</th>\n",
       "      <th>media_coverage</th>\n",
       "      <th>url</th>\n",
       "      <th>media_name</th>\n",
       "      <th>media_type</th>\n",
       "      <th>media_subject</th>\n",
       "      <th>media_language</th>\n",
       "      <th>media_diffusion</th>\n",
       "      <th>media_location</th>\n",
       "      <th>coverage</th>\n",
       "      <th>true_country</th>\n",
       "    </tr>\n",
       "  </thead>\n",
       "  <tbody>\n",
       "    <tr>\n",
       "      <th>10248</th>\n",
       "      <td>2</td>\n",
       "      <td>National</td>\n",
       "      <td>http://www.france24.com/en/</td>\n",
       "      <td>France 24</td>\n",
       "      <td>BC</td>\n",
       "      <td>GI</td>\n",
       "      <td>ENG</td>\n",
       "      <td>TV</td>\n",
       "      <td>France - Broadcast News Media</td>\n",
       "      <td>France Newspapers and News Media - National an...</td>\n",
       "      <td>France</td>\n",
       "    </tr>\n",
       "    <tr>\n",
       "      <th>10258</th>\n",
       "      <td>12</td>\n",
       "      <td>National</td>\n",
       "      <td>http://www.french-news-online.com/</td>\n",
       "      <td>France News Online</td>\n",
       "      <td>IN</td>\n",
       "      <td>GI</td>\n",
       "      <td>ENG</td>\n",
       "      <td>NaN</td>\n",
       "      <td>France - Internet News Souces</td>\n",
       "      <td>France Newspapers and News Media - National an...</td>\n",
       "      <td>France</td>\n",
       "    </tr>\n",
       "    <tr>\n",
       "      <th>10268</th>\n",
       "      <td>22</td>\n",
       "      <td>National</td>\n",
       "      <td>http://www.thelocal.fr/</td>\n",
       "      <td>The Local</td>\n",
       "      <td>IN</td>\n",
       "      <td>GI</td>\n",
       "      <td>ENG</td>\n",
       "      <td>NaN</td>\n",
       "      <td>France - Internet News Souces</td>\n",
       "      <td>France Newspapers and News Media - National an...</td>\n",
       "      <td>France</td>\n",
       "    </tr>\n",
       "    <tr>\n",
       "      <th>10271</th>\n",
       "      <td>25</td>\n",
       "      <td>Foreign</td>\n",
       "      <td>http://www.expatica.com/fr/main.html</td>\n",
       "      <td>Expatica</td>\n",
       "      <td>IN</td>\n",
       "      <td>GI</td>\n",
       "      <td>ENG</td>\n",
       "      <td>NaN</td>\n",
       "      <td>France - Internet News Souces</td>\n",
       "      <td>France Newspapers and News Media - National an...</td>\n",
       "      <td>France</td>\n",
       "    </tr>\n",
       "    <tr>\n",
       "      <th>10294</th>\n",
       "      <td>48</td>\n",
       "      <td>National</td>\n",
       "      <td>http://www.afp.com/en</td>\n",
       "      <td>Agence France Presse</td>\n",
       "      <td>PA</td>\n",
       "      <td>GI</td>\n",
       "      <td>ENG</td>\n",
       "      <td>NaN</td>\n",
       "      <td>France - Press Agency News Media</td>\n",
       "      <td>France Newspapers and News Media - National an...</td>\n",
       "      <td>France</td>\n",
       "    </tr>\n",
       "    <tr>\n",
       "      <th>10343</th>\n",
       "      <td>97</td>\n",
       "      <td>Pais</td>\n",
       "      <td>http://www.connexionfrance.com/</td>\n",
       "      <td>Connexion</td>\n",
       "      <td>NP</td>\n",
       "      <td>ET</td>\n",
       "      <td>ENG</td>\n",
       "      <td>English</td>\n",
       "      <td>Ile de France</td>\n",
       "      <td>France Newspapers and News Media - Local</td>\n",
       "      <td>France</td>\n",
       "    </tr>\n",
       "    <tr>\n",
       "      <th>10397</th>\n",
       "      <td>151</td>\n",
       "      <td>Nice</td>\n",
       "      <td>http://www.letsgoriviera.com/</td>\n",
       "      <td>Let's Go Riviera</td>\n",
       "      <td>NP</td>\n",
       "      <td>ET</td>\n",
       "      <td>ENG</td>\n",
       "      <td>English</td>\n",
       "      <td>Provence Alpes Cote D'Azur</td>\n",
       "      <td>France Newspapers and News Media - Local</td>\n",
       "      <td>France</td>\n",
       "    </tr>\n",
       "  </tbody>\n",
       "</table>\n",
       "</div>"
      ],
      "text/plain": [
       "       Unnamed: 0 media_coverage                                   url  \\\n",
       "10248           2       National           http://www.france24.com/en/   \n",
       "10258          12       National    http://www.french-news-online.com/   \n",
       "10268          22       National               http://www.thelocal.fr/   \n",
       "10271          25        Foreign  http://www.expatica.com/fr/main.html   \n",
       "10294          48       National                 http://www.afp.com/en   \n",
       "10343          97           Pais       http://www.connexionfrance.com/   \n",
       "10397         151           Nice         http://www.letsgoriviera.com/   \n",
       "\n",
       "                 media_name media_type media_subject media_language  \\\n",
       "10248             France 24         BC            GI            ENG   \n",
       "10258    France News Online         IN            GI            ENG   \n",
       "10268             The Local         IN            GI            ENG   \n",
       "10271              Expatica         IN            GI            ENG   \n",
       "10294  Agence France Presse         PA            GI            ENG   \n",
       "10343             Connexion         NP            ET            ENG   \n",
       "10397      Let's Go Riviera         NP            ET            ENG   \n",
       "\n",
       "      media_diffusion                    media_location  \\\n",
       "10248              TV     France - Broadcast News Media   \n",
       "10258             NaN     France - Internet News Souces   \n",
       "10268             NaN     France - Internet News Souces   \n",
       "10271             NaN     France - Internet News Souces   \n",
       "10294             NaN  France - Press Agency News Media   \n",
       "10343         English                     Ile de France   \n",
       "10397         English        Provence Alpes Cote D'Azur   \n",
       "\n",
       "                                                coverage true_country  \n",
       "10248  France Newspapers and News Media - National an...       France  \n",
       "10258  France Newspapers and News Media - National an...       France  \n",
       "10268  France Newspapers and News Media - National an...       France  \n",
       "10271  France Newspapers and News Media - National an...       France  \n",
       "10294  France Newspapers and News Media - National an...       France  \n",
       "10343           France Newspapers and News Media - Local       France  \n",
       "10397           France Newspapers and News Media - Local       France  "
      ]
     },
     "execution_count": 4,
     "metadata": {},
     "output_type": "execute_result"
    }
   ],
   "source": [
    "data[(data.loc[:, \"true_country\"]==\"France\") & (data.loc[:, \"media_language\"]==\"ENG\") ]"
   ]
  },
  {
   "cell_type": "markdown",
   "id": "7e84ce34-bce1-441d-9d32-4b1f8890cf4c",
   "metadata": {},
   "source": [
    "## Pie Chart des locations de médias parlant en anglais "
   ]
  },
  {
   "cell_type": "code",
   "execution_count": 7,
   "id": "b78aa64a-5f2d-4f3a-b3b6-dac0f185e562",
   "metadata": {},
   "outputs": [
    {
     "data": {
      "text/plain": [
       "['United Kingdom',\n",
       " 'United States',\n",
       " 'Nigeria',\n",
       " 'South Africa',\n",
       " 'India',\n",
       " 'New Zealand',\n",
       " 'Philippines',\n",
       " 'Zimbabwe',\n",
       " 'Ireland',\n",
       " 'Australia',\n",
       " 'Africa Regional',\n",
       " 'Bangladesh',\n",
       " 'Canada',\n",
       " 'Ghana',\n",
       " 'Pakistan',\n",
       " 'Zambia',\n",
       " 'International',\n",
       " 'Asia Regional',\n",
       " 'Somalia',\n",
       " 'Sri Lanka',\n",
       " 'Cuba',\n",
       " 'Sierra Leone',\n",
       " 'Afghanistan',\n",
       " 'Kenya',\n",
       " 'Near and Middle East Regional',\n",
       " 'Ethiopia',\n",
       " 'Spain',\n",
       " 'Israel',\n",
       " 'Liberia',\n",
       " 'China']"
      ]
     },
     "execution_count": 7,
     "metadata": {},
     "output_type": "execute_result"
    }
   ],
   "source": [
    "list(data.loc[:, [\"media_language\", \"true_country\"]].value_counts()[\"ENG\"].iloc[:30].index)"
   ]
  },
  {
   "cell_type": "code",
   "execution_count": 8,
   "id": "5f56b8c7",
   "metadata": {},
   "outputs": [],
   "source": [
    "liste_countries=['United Kingdom','United States','Nigeria','South Africa','India','New Zealand','Philippines',\n",
    "                'Ireland','Australia','Africa Regional','Bangladesh','Canada','Ghana','Pakistan',\n",
    "                'Zambia','International','Asia Regional','Somalia','Sri Lanka',\n",
    "                'Cuba','Sierra Leone','Kenya','Near and Middle East Regional',\n",
    "                'Ethiopia','Spain','Israel','Liberia','China']\n",
    "\n",
    "df_urls=data.loc[data.loc[:, \"true_country\"].isin(liste_countries), :]"
   ]
  },
  {
   "cell_type": "code",
   "execution_count": 9,
   "id": "2a4ae88b",
   "metadata": {},
   "outputs": [
    {
     "data": {
      "text/html": [
       "<div>\n",
       "<style scoped>\n",
       "    .dataframe tbody tr th:only-of-type {\n",
       "        vertical-align: middle;\n",
       "    }\n",
       "\n",
       "    .dataframe tbody tr th {\n",
       "        vertical-align: top;\n",
       "    }\n",
       "\n",
       "    .dataframe thead th {\n",
       "        text-align: right;\n",
       "    }\n",
       "</style>\n",
       "<table border=\"1\" class=\"dataframe\">\n",
       "  <thead>\n",
       "    <tr style=\"text-align: right;\">\n",
       "      <th></th>\n",
       "      <th>id</th>\n",
       "      <th>media_coverage</th>\n",
       "      <th>url</th>\n",
       "      <th>media_name</th>\n",
       "      <th>media_type</th>\n",
       "      <th>media_subject</th>\n",
       "      <th>media_language</th>\n",
       "      <th>media_diffusion</th>\n",
       "      <th>media_location</th>\n",
       "      <th>coverage</th>\n",
       "      <th>true_country</th>\n",
       "    </tr>\n",
       "  </thead>\n",
       "  <tbody>\n",
       "    <tr>\n",
       "      <th>0</th>\n",
       "      <td>0</td>\n",
       "      <td>National</td>\n",
       "      <td>https://www.abc.net.au/</td>\n",
       "      <td>ABC</td>\n",
       "      <td>BC</td>\n",
       "      <td>GI</td>\n",
       "      <td>ENG</td>\n",
       "      <td>Radio TV</td>\n",
       "      <td>NaN</td>\n",
       "      <td>NaN</td>\n",
       "      <td>Australia</td>\n",
       "    </tr>\n",
       "    <tr>\n",
       "      <th>1</th>\n",
       "      <td>1</td>\n",
       "      <td>National</td>\n",
       "      <td>https://www.abc.net.au/radio-australia/</td>\n",
       "      <td>ABC Radio Australia</td>\n",
       "      <td>BC</td>\n",
       "      <td>GI</td>\n",
       "      <td>ENG</td>\n",
       "      <td>Radio</td>\n",
       "      <td>NaN</td>\n",
       "      <td>NaN</td>\n",
       "      <td>Australia</td>\n",
       "    </tr>\n",
       "    <tr>\n",
       "      <th>2</th>\n",
       "      <td>2</td>\n",
       "      <td>National</td>\n",
       "      <td>https://www.foxsports.com.au/</td>\n",
       "      <td>Fox Sports</td>\n",
       "      <td>BC</td>\n",
       "      <td>SP</td>\n",
       "      <td>ENG</td>\n",
       "      <td>TV</td>\n",
       "      <td>NaN</td>\n",
       "      <td>NaN</td>\n",
       "      <td>Australia</td>\n",
       "    </tr>\n",
       "    <tr>\n",
       "      <th>3</th>\n",
       "      <td>3</td>\n",
       "      <td>National</td>\n",
       "      <td>https://www.9news.com.au/</td>\n",
       "      <td>Nine</td>\n",
       "      <td>BC</td>\n",
       "      <td>GI</td>\n",
       "      <td>ENG</td>\n",
       "      <td>TV</td>\n",
       "      <td>NaN</td>\n",
       "      <td>NaN</td>\n",
       "      <td>Australia</td>\n",
       "    </tr>\n",
       "    <tr>\n",
       "      <th>4</th>\n",
       "      <td>4</td>\n",
       "      <td>National</td>\n",
       "      <td>https://www.sbs.com.au/</td>\n",
       "      <td>SBS</td>\n",
       "      <td>BC</td>\n",
       "      <td>GI</td>\n",
       "      <td>ENG</td>\n",
       "      <td>Radio\\nTV</td>\n",
       "      <td>NaN</td>\n",
       "      <td>NaN</td>\n",
       "      <td>Australia</td>\n",
       "    </tr>\n",
       "    <tr>\n",
       "      <th>...</th>\n",
       "      <td>...</td>\n",
       "      <td>...</td>\n",
       "      <td>...</td>\n",
       "      <td>...</td>\n",
       "      <td>...</td>\n",
       "      <td>...</td>\n",
       "      <td>...</td>\n",
       "      <td>...</td>\n",
       "      <td>...</td>\n",
       "      <td>...</td>\n",
       "      <td>...</td>\n",
       "    </tr>\n",
       "    <tr>\n",
       "      <th>21789</th>\n",
       "      <td>21789</td>\n",
       "      <td>Lusaka</td>\n",
       "      <td>http://www.qfmzambia.com/</td>\n",
       "      <td>Q FM</td>\n",
       "      <td>BC</td>\n",
       "      <td>GI</td>\n",
       "      <td>ENG</td>\n",
       "      <td>Radio</td>\n",
       "      <td>Lusaka</td>\n",
       "      <td>Zambia Newspapers and News Media - Local</td>\n",
       "      <td>Zambia</td>\n",
       "    </tr>\n",
       "    <tr>\n",
       "      <th>21790</th>\n",
       "      <td>21790</td>\n",
       "      <td>Lusaka</td>\n",
       "      <td>http://rainbownewszambia.com/</td>\n",
       "      <td>Rainbow Newspaper</td>\n",
       "      <td>NP</td>\n",
       "      <td>GI</td>\n",
       "      <td>ENG</td>\n",
       "      <td>NaN</td>\n",
       "      <td>Lusaka</td>\n",
       "      <td>Zambia Newspapers and News Media - Local</td>\n",
       "      <td>Zambia</td>\n",
       "    </tr>\n",
       "    <tr>\n",
       "      <th>21791</th>\n",
       "      <td>21791</td>\n",
       "      <td>Lusaka</td>\n",
       "      <td>http://www.times.co.zm/</td>\n",
       "      <td>Times of Zambia</td>\n",
       "      <td>NP</td>\n",
       "      <td>GI</td>\n",
       "      <td>ENG</td>\n",
       "      <td>NaN</td>\n",
       "      <td>Lusaka</td>\n",
       "      <td>Zambia Newspapers and News Media - Local</td>\n",
       "      <td>Zambia</td>\n",
       "    </tr>\n",
       "    <tr>\n",
       "      <th>21792</th>\n",
       "      <td>21792</td>\n",
       "      <td>Lusaka</td>\n",
       "      <td>https://www.daily-mail.co.zm</td>\n",
       "      <td>Zambia Daily Mail</td>\n",
       "      <td>NP</td>\n",
       "      <td>GI</td>\n",
       "      <td>ENG</td>\n",
       "      <td>NaN</td>\n",
       "      <td>Lusaka</td>\n",
       "      <td>Zambia Newspapers and News Media - Local</td>\n",
       "      <td>Zambia</td>\n",
       "    </tr>\n",
       "    <tr>\n",
       "      <th>21793</th>\n",
       "      <td>21793</td>\n",
       "      <td>Chikuni Mission</td>\n",
       "      <td>https://www.chikuniradiozm.org/</td>\n",
       "      <td>Radio Chikuni</td>\n",
       "      <td>BC</td>\n",
       "      <td>GI</td>\n",
       "      <td>ENG</td>\n",
       "      <td>Radio</td>\n",
       "      <td>Southern</td>\n",
       "      <td>Zambia Newspapers and News Media - Local</td>\n",
       "      <td>Zambia</td>\n",
       "    </tr>\n",
       "  </tbody>\n",
       "</table>\n",
       "<p>5803 rows × 11 columns</p>\n",
       "</div>"
      ],
      "text/plain": [
       "          id   media_coverage                                      url  \\\n",
       "0          0         National                  https://www.abc.net.au/   \n",
       "1          1         National  https://www.abc.net.au/radio-australia/   \n",
       "2          2         National            https://www.foxsports.com.au/   \n",
       "3          3         National                https://www.9news.com.au/   \n",
       "4          4         National                  https://www.sbs.com.au/   \n",
       "...      ...              ...                                      ...   \n",
       "21789  21789           Lusaka                http://www.qfmzambia.com/   \n",
       "21790  21790           Lusaka            http://rainbownewszambia.com/   \n",
       "21791  21791           Lusaka                  http://www.times.co.zm/   \n",
       "21792  21792           Lusaka             https://www.daily-mail.co.zm   \n",
       "21793  21793  Chikuni Mission          https://www.chikuniradiozm.org/   \n",
       "\n",
       "                media_name media_type media_subject media_language  \\\n",
       "0                      ABC         BC            GI            ENG   \n",
       "1      ABC Radio Australia         BC            GI            ENG   \n",
       "2               Fox Sports         BC            SP            ENG   \n",
       "3                     Nine         BC            GI            ENG   \n",
       "4                      SBS         BC            GI            ENG   \n",
       "...                    ...        ...           ...            ...   \n",
       "21789                 Q FM         BC            GI            ENG   \n",
       "21790    Rainbow Newspaper         NP            GI            ENG   \n",
       "21791      Times of Zambia         NP            GI            ENG   \n",
       "21792    Zambia Daily Mail         NP            GI            ENG   \n",
       "21793        Radio Chikuni         BC            GI            ENG   \n",
       "\n",
       "      media_diffusion media_location  \\\n",
       "0            Radio TV            NaN   \n",
       "1               Radio            NaN   \n",
       "2                  TV            NaN   \n",
       "3                  TV            NaN   \n",
       "4           Radio\\nTV            NaN   \n",
       "...               ...            ...   \n",
       "21789           Radio         Lusaka   \n",
       "21790             NaN         Lusaka   \n",
       "21791             NaN         Lusaka   \n",
       "21792             NaN         Lusaka   \n",
       "21793           Radio       Southern   \n",
       "\n",
       "                                       coverage true_country  \n",
       "0                                           NaN    Australia  \n",
       "1                                           NaN    Australia  \n",
       "2                                           NaN    Australia  \n",
       "3                                           NaN    Australia  \n",
       "4                                           NaN    Australia  \n",
       "...                                         ...          ...  \n",
       "21789  Zambia Newspapers and News Media - Local       Zambia  \n",
       "21790  Zambia Newspapers and News Media - Local       Zambia  \n",
       "21791  Zambia Newspapers and News Media - Local       Zambia  \n",
       "21792  Zambia Newspapers and News Media - Local       Zambia  \n",
       "21793  Zambia Newspapers and News Media - Local       Zambia  \n",
       "\n",
       "[5803 rows x 11 columns]"
      ]
     },
     "execution_count": 9,
     "metadata": {},
     "output_type": "execute_result"
    }
   ],
   "source": [
    "df_urls"
   ]
  },
  {
   "cell_type": "markdown",
   "id": "d122fe29-3e2e-4c1c-ae9d-8436ff67c33a",
   "metadata": {},
   "source": [
    "## Bar Graph des différents languages (Anglais, Espagnol, Francais, portugais, russe, arabe, allemand, chinois)"
   ]
  },
  {
   "cell_type": "code",
   "execution_count": 6,
   "id": "2fdb669f-54c0-45b3-bebd-12bd1a4a4a6e",
   "metadata": {},
   "outputs": [
    {
     "data": {
      "text/plain": [
       "<AxesSubplot:xlabel='media_language'>"
      ]
     },
     "execution_count": 6,
     "metadata": {},
     "output_type": "execute_result"
    },
    {
     "data": {
      "image/png": "[encoded data removed]",
      "text/plain": [
       "<Figure size 640x480 with 1 Axes>"
      ]
     },
     "metadata": {},
     "output_type": "display_data"
    }
   ],
   "source": [
    "data.loc[:, \"media_language\"].value_counts().iloc[:25].plot.bar()"
   ]
  },
  {
   "cell_type": "markdown",
   "id": "56de68fa-90d2-4d54-8d6e-fbe9ed8e145e",
   "metadata": {},
   "source": [
    "## Liste non exhaustives d'anaoncronymes\n",
    "\n",
    "\n",
    "Media Type\n",
    "<br> \n",
    "<br> \n",
    "BC-Broadcast\n",
    "<br> \n",
    "IN-Internet\n",
    "<br> \n",
    "MG-Magazine\n",
    "<br> \n",
    "NP-Newspaper\n",
    "<br> \n",
    "PA-Press Agency \t\n",
    "\n",
    "Media Focus\n",
    "<br> \n",
    "<br> \n",
    "AG-Agriculture\n",
    "<br> \n",
    "AL-Alternative\n",
    "<br> \n",
    "BU-Business\n",
    "<br> \n",
    "ET-Ethnic\n",
    "<br> \n",
    "GI-General Interest\n",
    "<br> \n",
    "SP-Sport \t"
   ]
  },
  {
   "cell_type": "markdown",
   "id": "0cddd6fd-9160-4c58-aa95-87500882cabd",
   "metadata": {},
   "source": [
    "## Barplot du \"focus\" du médias princiapelement General Interest (GI), business(BU) et sport(SP)"
   ]
  },
  {
   "cell_type": "code",
   "execution_count": 7,
   "id": "72eb7d0a-e9b6-4f78-910b-d9e15097e433",
   "metadata": {},
   "outputs": [
    {
     "data": {
      "text/plain": [
       "<AxesSubplot:xlabel='media_subject'>"
      ]
     },
     "execution_count": 7,
     "metadata": {},
     "output_type": "execute_result"
    },
    {
     "data": {
      "image/png": "[encoded data removed]",
      "text/plain": [
       "<Figure size 640x480 with 1 Axes>"
      ]
     },
     "metadata": {},
     "output_type": "display_data"
    }
   ],
   "source": [
    "data.loc[:, \"media_subject\"].value_counts().iloc[:25].plot.bar()"
   ]
  },
  {
   "cell_type": "markdown",
   "id": "e196e0fc-733f-41a0-bb49-461e3842d613",
   "metadata": {},
   "source": [
    "## Barplot du type de médias principalement des newspaper (NP), sites internets(IN), broadcast(BC), agence de presse(PA)"
   ]
  },
  {
   "cell_type": "code",
   "execution_count": 8,
   "id": "6d8dd8a4-05b2-4d65-9886-013f3d43c7cb",
   "metadata": {},
   "outputs": [
    {
     "data": {
      "text/plain": [
       "<AxesSubplot:xlabel='media_type'>"
      ]
     },
     "execution_count": 8,
     "metadata": {},
     "output_type": "execute_result"
    },
    {
     "data": {
      "image/png": "[encoded data removed]",
      "text/plain": [
       "<Figure size 640x480 with 1 Axes>"
      ]
     },
     "metadata": {},
     "output_type": "display_data"
    }
   ],
   "source": [
    "data.loc[:, \"media_type\"].value_counts().iloc[:25].plot.bar()"
   ]
  }
 ],
 "metadata": {
  "kernelspec": {
   "display_name": "Python 3 (ipykernel)",
   "language": "python",
   "name": "python3"
  },
  "language_info": {
   "codemirror_mode": {
    "name": "ipython",
    "version": 3
   },
   "file_extension": ".py",
   "mimetype": "text/x-python",
   "name": "python",
   "nbconvert_exporter": "python",
   "pygments_lexer": "ipython3",
   "version": "3.10.12"
  }
 },
 "nbformat": 4,
 "nbformat_minor": 5
}
